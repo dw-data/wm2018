{
 "cells": [
  {
   "cell_type": "code",
   "execution_count": 1,
   "metadata": {
    "collapsed": true
   },
   "outputs": [],
   "source": [
    "import pandas as pd\n",
    "import matplotlib.pyplot as plt\n",
    "%matplotlib inline\n",
    "from bs4 import BeautifulSoup\n",
    "from urllib.request import Request, urlopen\n",
    "import re\n",
    "import os\n",
    "import requests\n",
    "import dateutil\n",
    "from datetime import datetime\n",
    "\n",
    "pd.set_option(\"display.max_rows\", 1000)\n",
    "\n",
    "plt.rcParams['pdf.fonttype'] = 42\n",
    "plt.rcParams['ps.fonttype'] = 42"
   ]
  },
  {
   "cell_type": "code",
   "execution_count": 2,
   "metadata": {
    "collapsed": false
   },
   "outputs": [],
   "source": [
    "overview_page_urls = [\"http://www.kicker.de/news/fussball/weltmeisterschaft/spiele/weltmeisterschaft/2018/6/0/spieltag.html\"]"
   ]
  },
  {
   "cell_type": "code",
   "execution_count": 3,
   "metadata": {
    "collapsed": false,
    "scrolled": true
   },
   "outputs": [
    {
     "name": "stdout",
     "output_type": "stream",
     "text": [
      "/news/fussball/weltmeisterschaft/spiele/weltmeisterschaft/2018/6/3070466/spielanalyse_frankreich_belgien.html\n",
      "/news/fussball/weltmeisterschaft/spiele/weltmeisterschaft/2018/6/3070467/spielanalyse_kroatien_england.html\n",
      "http://www.kicker.de/news/fussball/weltmeisterschaft/spiele/weltmeisterschaft/2018/6/3070466/taktische-aufstellung_frankreich_belgien.html\n",
      "http://www.kicker.de/news/fussball/weltmeisterschaft/spiele/weltmeisterschaft/2018/6/3070467/taktische-aufstellung_kroatien_england.html\n",
      "Lloris\n",
      "Pavard\n",
      "Varane\n",
      "Umtiti\n",
      "Lucas\n",
      "Kanté\n",
      "Pogba\n",
      "Matuidi\n",
      "Mbappé\n",
      "Griezmann\n",
      "Giroud\n",
      "N'Zonzi\n",
      "Giroud\n",
      "Tolisso\n",
      "Matuidi\n",
      "Courtois\n",
      "Alderweireld\n",
      "Kompany\n",
      "Vertonghen\n",
      "Witsel\n",
      "Dembelé\n",
      "Chadli\n",
      "De Bruyne\n",
      "Fellaini\n",
      "E. Hazard\n",
      "R. Lukaku\n",
      "Mertens\n",
      "Dembelé\n",
      "Carrasco\n",
      "Fellaini\n",
      "Batshuayi\n",
      "Chadli\n",
      "Subasic\n",
      "Vrsaljko\n",
      "Lovren\n",
      "Vida\n",
      "Strinic\n",
      "Brozovic\n",
      "Rakitic\n",
      "Rebic\n",
      "Modric\n",
      "Perisic\n",
      "Mandzukic\n",
      "Pivaric\n",
      "Strinic\n",
      "Kramaric\n",
      "Rebic\n",
      "Corluka\n",
      "Mandzukic\n",
      "Badelj\n",
      "Modric\n",
      "Pickford\n",
      "Walker\n",
      "Stones\n",
      "Maguire\n",
      "Trippier\n",
      "J. Henderson\n",
      "A. Young\n",
      "Lingard\n",
      "Alli\n",
      "Sterling\n",
      "H. Kane\n",
      "Rashford\n",
      "Sterling\n",
      "D. Rose\n",
      "A. Young\n",
      "Dier\n",
      "J. Henderson\n",
      "Vardy\n",
      "Walker\n"
     ]
    }
   ],
   "source": [
    "url_list = []\n",
    "tactical_url_list = []\n",
    "names_list = []\n",
    "\n",
    "for url in overview_page_urls:\n",
    "    #open each of the overview pages\n",
    "    requested_page = Request(url, headers={'User-Agent': 'Chrome/64.0'})\n",
    "    webpage = urlopen(requested_page).read()\n",
    "    overview_page = BeautifulSoup(webpage, \"html.parser\")\n",
    "    \n",
    "    #Find the links to all the pages that contain an analysis\n",
    "    for a in overview_page.findAll('a', {'class': 'link'}):\n",
    "        if a.text == \"Analyse\":\n",
    "            print(a['href'])\n",
    "            url_list.append(a['href'])\n",
    "        if  a.text == \"Spielbericht\":\n",
    "            print(a['href'])\n",
    "            url_list.append(a['href'])\n",
    "    \n",
    "    #For each of the found links, replace part of the URL to head to the tactical setup and save it as a new URL\n",
    "    for url in url_list:\n",
    "        modified_url = url.replace('spielanalyse','taktische-aufstellung').replace('spielbericht','taktische-aufstellung')\n",
    "        full_url = 'http://www.kicker.de'+modified_url\n",
    "        print(full_url)\n",
    "        tactical_url_list.append(full_url)\n",
    "        \n",
    "    for tactical_url in tactical_url_list:\n",
    "        #open the URL for each game's tactical set up listing all players and exchanged players\n",
    "        requested_page_two = Request(tactical_url)\n",
    "        webpage_two = urlopen(requested_page_two).read()\n",
    "        overview_page_two = BeautifulSoup(webpage_two, \"html.parser\")\n",
    "\n",
    "        #find all the names listed on the page and add them to the list\n",
    "        #search by div-id as that is the only way to exclude the players on the Ersatzbank\n",
    "        for div in overview_page_two.findAll('div', {'id':'ctl00_PlaceHolderHalf_aufstellunghalf_ausstellungHeim'}):\n",
    "            for a in div.findAll('a', {'class':'link_noicon'}):\n",
    "                print(a.text)\n",
    "                names_list.append(a.text)\n",
    "\n",
    "        for div in overview_page_two.findAll('div', {'id':'ctl00_PlaceHolderHalf_aufstellunghalf_einwechslungenHeim'}):\n",
    "            for a in div.findAll('a', {'class':'link_noicon'}):\n",
    "                print(a.text)\n",
    "                names_list.append(a.text)\n",
    "\n",
    "        for div in overview_page_two.findAll('div', {'id':'ctl00_PlaceHolderHalf_aufstellunghalf_ausstellungAusw'}):\n",
    "            for a in div.findAll('a', {'class':'link_noicon'}):\n",
    "                print(a.text)\n",
    "                names_list.append(a.text)\n",
    "\n",
    "        for div in overview_page_two.findAll('div', {'id':'ctl00_PlaceHolderHalf_aufstellunghalf_einwechslungenAusw'}):\n",
    "            for a in div.findAll('a', {'class':'link_noicon'}):\n",
    "                print(a.text)\n",
    "                names_list.append(a.text)"
   ]
  },
  {
   "cell_type": "code",
   "execution_count": 4,
   "metadata": {
    "collapsed": false
   },
   "outputs": [
    {
     "data": {
      "text/html": [
       "<div>\n",
       "<table border=\"1\" class=\"dataframe\">\n",
       "  <thead>\n",
       "    <tr style=\"text-align: right;\">\n",
       "      <th></th>\n",
       "      <th>0</th>\n",
       "    </tr>\n",
       "  </thead>\n",
       "  <tbody>\n",
       "    <tr>\n",
       "      <th>0</th>\n",
       "      <td>Lloris</td>\n",
       "    </tr>\n",
       "    <tr>\n",
       "      <th>1</th>\n",
       "      <td>Pavard</td>\n",
       "    </tr>\n",
       "    <tr>\n",
       "      <th>2</th>\n",
       "      <td>Varane</td>\n",
       "    </tr>\n",
       "    <tr>\n",
       "      <th>3</th>\n",
       "      <td>Umtiti</td>\n",
       "    </tr>\n",
       "    <tr>\n",
       "      <th>4</th>\n",
       "      <td>Lucas</td>\n",
       "    </tr>\n",
       "  </tbody>\n",
       "</table>\n",
       "</div>"
      ],
      "text/plain": [
       "        0\n",
       "0  Lloris\n",
       "1  Pavard\n",
       "2  Varane\n",
       "3  Umtiti\n",
       "4   Lucas"
      ]
     },
     "execution_count": 4,
     "metadata": {},
     "output_type": "execute_result"
    }
   ],
   "source": [
    "df = pd.DataFrame(names_list)\n",
    "df.head()"
   ]
  },
  {
   "cell_type": "code",
   "execution_count": 5,
   "metadata": {
    "collapsed": true
   },
   "outputs": [],
   "source": [
    "df.to_csv('data/output/players_played_2018_semifinal_raw.csv')"
   ]
  },
  {
   "cell_type": "code",
   "execution_count": 6,
   "metadata": {
    "collapsed": false
   },
   "outputs": [
    {
     "name": "stdout",
     "output_type": "stream",
     "text": [
      "70\n",
      "59\n"
     ]
    }
   ],
   "source": [
    "print(len(df))\n",
    "df_unique = df.drop_duplicates()\n",
    "print(len(df_unique))"
   ]
  },
  {
   "cell_type": "code",
   "execution_count": 7,
   "metadata": {
    "collapsed": true
   },
   "outputs": [],
   "source": [
    "df_unique.to_csv('data/output/players_played_2018_semifinal_unique.csv')"
   ]
  },
  {
   "cell_type": "code",
   "execution_count": null,
   "metadata": {
    "collapsed": true
   },
   "outputs": [],
   "source": []
  }
 ],
 "metadata": {
  "kernelspec": {
   "display_name": "Python 3",
   "language": "python",
   "name": "python3"
  },
  "language_info": {
   "codemirror_mode": {
    "name": "ipython",
    "version": 3
   },
   "file_extension": ".py",
   "mimetype": "text/x-python",
   "name": "python",
   "nbconvert_exporter": "python",
   "pygments_lexer": "ipython3",
   "version": "3.5.1"
  }
 },
 "nbformat": 4,
 "nbformat_minor": 0
}
