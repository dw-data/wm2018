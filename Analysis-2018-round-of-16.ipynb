{
 "cells": [
  {
   "cell_type": "code",
   "execution_count": 2,
   "metadata": {
    "collapsed": true
   },
   "outputs": [],
   "source": [
    "import pandas as pd\n",
    "import matplotlib.pyplot as plt\n",
    "%matplotlib inline\n",
    "\n",
    "pd.set_option('display.max_rows', 1000)\n",
    "pd.set_option('display.max_columns', 1000)\n",
    "\n",
    "plt.rcParams['pdf.fonttype'] = 42\n",
    "plt.rcParams['ps.fonttype'] = 42"
   ]
  },
  {
   "cell_type": "code",
   "execution_count": 3,
   "metadata": {
    "collapsed": false
   },
   "outputs": [],
   "source": [
    "df = pd.read_csv('data/output/DWData-WorldCup2018-Roundof16.csv')"
   ]
  },
  {
   "cell_type": "code",
   "execution_count": 4,
   "metadata": {
    "collapsed": false
   },
   "outputs": [
    {
     "data": {
      "text/html": [
       "<div>\n",
       "<table border=\"1\" class=\"dataframe\">\n",
       "  <thead>\n",
       "    <tr style=\"text-align: right;\">\n",
       "      <th></th>\n",
       "      <th>Team</th>\n",
       "      <th>#</th>\n",
       "      <th>Pos.</th>\n",
       "      <th>Player</th>\n",
       "      <th>Alias</th>\n",
       "      <th>HAS_PLAYED</th>\n",
       "      <th>Club</th>\n",
       "      <th>League</th>\n",
       "      <th>CountryCode</th>\n",
       "    </tr>\n",
       "  </thead>\n",
       "  <tbody>\n",
       "    <tr>\n",
       "      <th>0</th>\n",
       "      <td>Argentina</td>\n",
       "      <td>1</td>\n",
       "      <td>GK</td>\n",
       "      <td>GUZMAN Nahuel</td>\n",
       "      <td>GUZMAN</td>\n",
       "      <td>NaN</td>\n",
       "      <td>Tigres UANL</td>\n",
       "      <td>Primera Division</td>\n",
       "      <td>MEX</td>\n",
       "    </tr>\n",
       "    <tr>\n",
       "      <th>1</th>\n",
       "      <td>Argentina</td>\n",
       "      <td>2</td>\n",
       "      <td>DF</td>\n",
       "      <td>MERCADO Gabriel</td>\n",
       "      <td>MERCADO</td>\n",
       "      <td>True</td>\n",
       "      <td>Sevilla FC</td>\n",
       "      <td>Primera Division</td>\n",
       "      <td>ESP</td>\n",
       "    </tr>\n",
       "    <tr>\n",
       "      <th>2</th>\n",
       "      <td>Argentina</td>\n",
       "      <td>3</td>\n",
       "      <td>DF</td>\n",
       "      <td>TAGLIAFICO Nicolas</td>\n",
       "      <td>TAGLIAFICO</td>\n",
       "      <td>True</td>\n",
       "      <td>AFC Ajax</td>\n",
       "      <td>Eredivisie</td>\n",
       "      <td>NED</td>\n",
       "    </tr>\n",
       "    <tr>\n",
       "      <th>3</th>\n",
       "      <td>Argentina</td>\n",
       "      <td>4</td>\n",
       "      <td>DF</td>\n",
       "      <td>ANSALDI Cristian</td>\n",
       "      <td>ANSALDI</td>\n",
       "      <td>NaN</td>\n",
       "      <td>Torino FC</td>\n",
       "      <td>Serie A</td>\n",
       "      <td>ITA</td>\n",
       "    </tr>\n",
       "    <tr>\n",
       "      <th>4</th>\n",
       "      <td>Argentina</td>\n",
       "      <td>5</td>\n",
       "      <td>MF</td>\n",
       "      <td>BIGLIA Lucas</td>\n",
       "      <td>BIGLIA</td>\n",
       "      <td>NaN</td>\n",
       "      <td>AC Milan</td>\n",
       "      <td>Serie A</td>\n",
       "      <td>ITA</td>\n",
       "    </tr>\n",
       "  </tbody>\n",
       "</table>\n",
       "</div>"
      ],
      "text/plain": [
       "        Team  # Pos.              Player       Alias HAS_PLAYED         Club  \\\n",
       "0  Argentina  1   GK       GUZMAN Nahuel      GUZMAN        NaN  Tigres UANL   \n",
       "1  Argentina  2   DF     MERCADO Gabriel     MERCADO       True   Sevilla FC   \n",
       "2  Argentina  3   DF  TAGLIAFICO Nicolas  TAGLIAFICO       True     AFC Ajax   \n",
       "3  Argentina  4   DF    ANSALDI Cristian     ANSALDI        NaN    Torino FC   \n",
       "4  Argentina  5   MF        BIGLIA Lucas      BIGLIA        NaN     AC Milan   \n",
       "\n",
       "             League CountryCode  \n",
       "0  Primera Division         MEX  \n",
       "1  Primera Division         ESP  \n",
       "2        Eredivisie         NED  \n",
       "3           Serie A         ITA  \n",
       "4           Serie A         ITA  "
      ]
     },
     "execution_count": 4,
     "metadata": {},
     "output_type": "execute_result"
    }
   ],
   "source": [
    "df.head()"
   ]
  },
  {
   "cell_type": "code",
   "execution_count": 5,
   "metadata": {
    "collapsed": false
   },
   "outputs": [
    {
     "name": "stdout",
     "output_type": "stream",
     "text": [
      "<class 'pandas.core.frame.DataFrame'>\n",
      "RangeIndex: 368 entries, 0 to 367\n",
      "Data columns (total 9 columns):\n",
      "Team           368 non-null object\n",
      "#              368 non-null int64\n",
      "Pos.           368 non-null object\n",
      "Player         368 non-null object\n",
      "Alias          368 non-null object\n",
      "HAS_PLAYED     228 non-null object\n",
      "Club           368 non-null object\n",
      "League         368 non-null object\n",
      "CountryCode    368 non-null object\n",
      "dtypes: int64(1), object(8)\n",
      "memory usage: 26.0+ KB\n"
     ]
    }
   ],
   "source": [
    "df.info()"
   ]
  },
  {
   "cell_type": "code",
   "execution_count": 6,
   "metadata": {
    "collapsed": false
   },
   "outputs": [
    {
     "data": {
      "text/html": [
       "<div>\n",
       "<table border=\"1\" class=\"dataframe\">\n",
       "  <thead>\n",
       "    <tr style=\"text-align: right;\">\n",
       "      <th></th>\n",
       "      <th>Team</th>\n",
       "      <th>#</th>\n",
       "      <th>Pos.</th>\n",
       "      <th>Player</th>\n",
       "      <th>Alias</th>\n",
       "      <th>HAS_PLAYED</th>\n",
       "      <th>Club</th>\n",
       "      <th>League</th>\n",
       "      <th>CountryCode</th>\n",
       "    </tr>\n",
       "  </thead>\n",
       "  <tbody>\n",
       "    <tr>\n",
       "      <th>1</th>\n",
       "      <td>Argentina</td>\n",
       "      <td>2</td>\n",
       "      <td>DF</td>\n",
       "      <td>MERCADO Gabriel</td>\n",
       "      <td>MERCADO</td>\n",
       "      <td>True</td>\n",
       "      <td>Sevilla FC</td>\n",
       "      <td>Primera Division</td>\n",
       "      <td>ESP</td>\n",
       "    </tr>\n",
       "    <tr>\n",
       "      <th>2</th>\n",
       "      <td>Argentina</td>\n",
       "      <td>3</td>\n",
       "      <td>DF</td>\n",
       "      <td>TAGLIAFICO Nicolas</td>\n",
       "      <td>TAGLIAFICO</td>\n",
       "      <td>True</td>\n",
       "      <td>AFC Ajax</td>\n",
       "      <td>Eredivisie</td>\n",
       "      <td>NED</td>\n",
       "    </tr>\n",
       "    <tr>\n",
       "      <th>5</th>\n",
       "      <td>Argentina</td>\n",
       "      <td>6</td>\n",
       "      <td>DF</td>\n",
       "      <td>FAZIO Federico</td>\n",
       "      <td>FAZIO</td>\n",
       "      <td>True</td>\n",
       "      <td>AS Roma</td>\n",
       "      <td>Serie A</td>\n",
       "      <td>ITA</td>\n",
       "    </tr>\n",
       "    <tr>\n",
       "      <th>6</th>\n",
       "      <td>Argentina</td>\n",
       "      <td>7</td>\n",
       "      <td>MF</td>\n",
       "      <td>BANEGA Ever</td>\n",
       "      <td>BANEGA</td>\n",
       "      <td>True</td>\n",
       "      <td>Sevilla FC</td>\n",
       "      <td>Primera Division</td>\n",
       "      <td>ESP</td>\n",
       "    </tr>\n",
       "    <tr>\n",
       "      <th>9</th>\n",
       "      <td>Argentina</td>\n",
       "      <td>10</td>\n",
       "      <td>FW</td>\n",
       "      <td>MESSI Lionel</td>\n",
       "      <td>MESSI</td>\n",
       "      <td>True</td>\n",
       "      <td>FC Barcelona</td>\n",
       "      <td>Primera Division</td>\n",
       "      <td>ESP</td>\n",
       "    </tr>\n",
       "  </tbody>\n",
       "</table>\n",
       "</div>"
      ],
      "text/plain": [
       "        Team   # Pos.              Player       Alias HAS_PLAYED  \\\n",
       "1  Argentina   2   DF     MERCADO Gabriel     MERCADO       True   \n",
       "2  Argentina   3   DF  TAGLIAFICO Nicolas  TAGLIAFICO       True   \n",
       "5  Argentina   6   DF      FAZIO Federico       FAZIO       True   \n",
       "6  Argentina   7   MF         BANEGA Ever      BANEGA       True   \n",
       "9  Argentina  10   FW        MESSI Lionel       MESSI       True   \n",
       "\n",
       "           Club            League CountryCode  \n",
       "1    Sevilla FC  Primera Division         ESP  \n",
       "2      AFC Ajax        Eredivisie         NED  \n",
       "5       AS Roma           Serie A         ITA  \n",
       "6    Sevilla FC  Primera Division         ESP  \n",
       "9  FC Barcelona  Primera Division         ESP  "
      ]
     },
     "execution_count": 6,
     "metadata": {},
     "output_type": "execute_result"
    }
   ],
   "source": [
    "played = df[df['HAS_PLAYED']==True]\n",
    "played.head()"
   ]
  },
  {
   "cell_type": "markdown",
   "metadata": {},
   "source": [
    "## List of national teams"
   ]
  },
  {
   "cell_type": "code",
   "execution_count": 7,
   "metadata": {
    "collapsed": false
   },
   "outputs": [
    {
     "data": {
      "text/plain": [
       "16"
      ]
     },
     "execution_count": 7,
     "metadata": {},
     "output_type": "execute_result"
    }
   ],
   "source": [
    "len(played['Team'].value_counts())"
   ]
  },
  {
   "cell_type": "code",
   "execution_count": 8,
   "metadata": {
    "collapsed": false
   },
   "outputs": [
    {
     "data": {
      "text/plain": [
       "Spain          16\n",
       "Russia         15\n",
       "Denmark        15\n",
       "Colombia       15\n",
       "England        15\n",
       "Croatia        15\n",
       "France         14\n",
       "Sweden         14\n",
       "Uruguay        14\n",
       "Argentina      14\n",
       "Mexico         14\n",
       "Brazil         14\n",
       "Portugal       14\n",
       "Japan          13\n",
       "Switzerland    13\n",
       "Belgium        13\n",
       "Name: Team, dtype: int64"
      ]
     },
     "execution_count": 8,
     "metadata": {},
     "output_type": "execute_result"
    }
   ],
   "source": [
    "played['Team'].value_counts()"
   ]
  },
  {
   "cell_type": "markdown",
   "metadata": {},
   "source": [
    "## List of Leagues"
   ]
  },
  {
   "cell_type": "code",
   "execution_count": 9,
   "metadata": {
    "collapsed": false
   },
   "outputs": [
    {
     "name": "stderr",
     "output_type": "stream",
     "text": [
      "/Users/gcg/.virtualenvs/ddj/lib/python3.5/site-packages/ipykernel/__main__.py:1: SettingWithCopyWarning: \n",
      "A value is trying to be set on a copy of a slice from a DataFrame.\n",
      "Try using .loc[row_indexer,col_indexer] = value instead\n",
      "\n",
      "See the caveats in the documentation: http://pandas.pydata.org/pandas-docs/stable/indexing.html#indexing-view-versus-copy\n",
      "  if __name__ == '__main__':\n"
     ]
    }
   ],
   "source": [
    "played['League_ID'] = played['CountryCode'] +\" - \"+played['League']"
   ]
  },
  {
   "cell_type": "code",
   "execution_count": 10,
   "metadata": {
    "collapsed": false
   },
   "outputs": [
    {
     "data": {
      "text/plain": [
       "ENG - Premier League         53\n",
       "ESP - Primera Division       48\n",
       "ITA - Serie A                23\n",
       "GER - Bundesliga             19\n",
       "RUS - Premjer-Liga           17\n",
       "FRA - Ligue 1                15\n",
       "MEX - Primera Division        7\n",
       "ARG - Primera Division        7\n",
       "TUR - Süper Lig               6\n",
       "POR - Primeira Liga           6\n",
       "NED - Eredivisie              5\n",
       "CHN - Super League            4\n",
       "USA - Major League Soccer     3\n",
       "BEL - First Division A        2\n",
       "ENG - Championship            2\n",
       "JPN - J1 League               2\n",
       "URU - Primera Division        1\n",
       "WAL - Premier League          1\n",
       "GER - 2. Bundesliga           1\n",
       "UKR - Premier League          1\n",
       "SCO - Premier League          1\n",
       "BRA - Serie A                 1\n",
       "SUI - Super League            1\n",
       "UAE - Premier League          1\n",
       "DEN - Danish Superliga        1\n",
       "Name: League_ID, dtype: int64"
      ]
     },
     "execution_count": 10,
     "metadata": {},
     "output_type": "execute_result"
    }
   ],
   "source": [
    "played['League_ID'].value_counts()"
   ]
  },
  {
   "cell_type": "markdown",
   "metadata": {},
   "source": [
    "## How many different leagues are represented among the players of the 2018 WorldCup?"
   ]
  },
  {
   "cell_type": "code",
   "execution_count": 11,
   "metadata": {
    "collapsed": false
   },
   "outputs": [
    {
     "data": {
      "text/plain": [
       "25"
      ]
     },
     "execution_count": 11,
     "metadata": {},
     "output_type": "execute_result"
    }
   ],
   "source": [
    "len(played['League_ID'].value_counts())"
   ]
  },
  {
   "cell_type": "markdown",
   "metadata": {},
   "source": [
    "## How many different leagues are represented in each national team?"
   ]
  },
  {
   "cell_type": "code",
   "execution_count": 12,
   "metadata": {
    "collapsed": false,
    "scrolled": false
   },
   "outputs": [
    {
     "data": {
      "text/plain": [
       "Team\n",
       "England         1\n",
       "Russia          2\n",
       "Spain           2\n",
       "Belgium         4\n",
       "Brazil          5\n",
       "France          5\n",
       "Switzerland     6\n",
       "Argentina       7\n",
       "Colombia        7\n",
       "Croatia         7\n",
       "Denmark         7\n",
       "Uruguay         7\n",
       "Japan           8\n",
       "Mexico          8\n",
       "Portugal        8\n",
       "Sweden         11\n",
       "Name: League_ID, dtype: int64"
      ]
     },
     "execution_count": 12,
     "metadata": {},
     "output_type": "execute_result"
    }
   ],
   "source": [
    "played.groupby(by='Team')['League_ID'].nunique().sort_values(ascending = True)"
   ]
  },
  {
   "cell_type": "markdown",
   "metadata": {},
   "source": [
    "## (a) How many players of each league play in each national team?"
   ]
  },
  {
   "cell_type": "code",
   "execution_count": 13,
   "metadata": {
    "collapsed": false,
    "scrolled": false
   },
   "outputs": [
    {
     "data": {
      "text/plain": [
       "Team         League_ID                \n",
       "Argentina    ARG - Primera Division        4\n",
       "             ENG - Premier League          3\n",
       "             ESP - Primera Division        3\n",
       "             CHN - Super League            1\n",
       "             FRA - Ligue 1                 1\n",
       "             ITA - Serie A                 1\n",
       "             NED - Eredivisie              1\n",
       "Belgium      ENG - Premier League          9\n",
       "             CHN - Super League            2\n",
       "             FRA - Ligue 1                 1\n",
       "             ITA - Serie A                 1\n",
       "Brazil       ENG - Premier League          4\n",
       "             ESP - Primera Division        4\n",
       "             FRA - Ligue 1                 3\n",
       "             ITA - Serie A                 2\n",
       "             BRA - Serie A                 1\n",
       "Colombia     ESP - Primera Division        6\n",
       "             ARG - Primera Division        2\n",
       "             ENG - Premier League          2\n",
       "             ITA - Serie A                 2\n",
       "             FRA - Ligue 1                 1\n",
       "             MEX - Primera Division        1\n",
       "             NED - Eredivisie              1\n",
       "Croatia      ITA - Serie A                 5\n",
       "             ESP - Primera Division        4\n",
       "             GER - Bundesliga              2\n",
       "             ENG - Premier League          1\n",
       "             FRA - Ligue 1                 1\n",
       "             TUR - Süper Lig               1\n",
       "             UKR - Premier League          1\n",
       "Denmark      ENG - Premier League          4\n",
       "             ESP - Primera Division        3\n",
       "             ENG - Championship            2\n",
       "             GER - Bundesliga              2\n",
       "             NED - Eredivisie              2\n",
       "             FRA - Ligue 1                 1\n",
       "             ITA - Serie A                 1\n",
       "England      ENG - Premier League         15\n",
       "France       ENG - Premier League          4\n",
       "             ESP - Primera Division        4\n",
       "             FRA - Ligue 1                 3\n",
       "             GER - Bundesliga              2\n",
       "             ITA - Serie A                 1\n",
       "Japan        GER - Bundesliga              3\n",
       "             ESP - Primera Division        2\n",
       "             FRA - Ligue 1                 2\n",
       "             JPN - J1 League               2\n",
       "             ENG - Premier League          1\n",
       "             GER - 2. Bundesliga           1\n",
       "             MEX - Primera Division        1\n",
       "             TUR - Süper Lig               1\n",
       "Mexico       MEX - Primera Division        4\n",
       "             ESP - Primera Division        2\n",
       "             POR - Primeira Liga           2\n",
       "             USA - Major League Soccer     2\n",
       "             BEL - First Division A        1\n",
       "             ENG - Premier League          1\n",
       "             GER - Bundesliga              1\n",
       "             NED - Eredivisie              1\n",
       "Portugal     ENG - Premier League          3\n",
       "             POR - Primeira Liga           3\n",
       "             ESP - Primera Division        2\n",
       "             TUR - Süper Lig               2\n",
       "             CHN - Super League            1\n",
       "             GER - Bundesliga              1\n",
       "             ITA - Serie A                 1\n",
       "             RUS - Premjer-Liga            1\n",
       "Russia       RUS - Premjer-Liga           14\n",
       "             ESP - Primera Division        1\n",
       "Spain        ESP - Primera Division       13\n",
       "             ENG - Premier League          3\n",
       "Sweden       GER - Bundesliga              3\n",
       "             RUS - Premjer-Liga            2\n",
       "             BEL - First Division A        1\n",
       "             DEN - Danish Superliga        1\n",
       "             ENG - Premier League          1\n",
       "             FRA - Ligue 1                 1\n",
       "             ITA - Serie A                 1\n",
       "             SCO - Premier League          1\n",
       "             UAE - Premier League          1\n",
       "             USA - Major League Soccer     1\n",
       "             WAL - Premier League          1\n",
       "Switzerland  GER - Bundesliga              5\n",
       "             ITA - Serie A                 3\n",
       "             ENG - Premier League          2\n",
       "             POR - Primeira Liga           1\n",
       "             SUI - Super League            1\n",
       "             TUR - Süper Lig               1\n",
       "Uruguay      ITA - Serie A                 5\n",
       "             ESP - Primera Division        4\n",
       "             ARG - Primera Division        1\n",
       "             FRA - Ligue 1                 1\n",
       "             MEX - Primera Division        1\n",
       "             TUR - Süper Lig               1\n",
       "             URU - Primera Division        1\n",
       "Name: League_ID, dtype: int64"
      ]
     },
     "execution_count": 13,
     "metadata": {},
     "output_type": "execute_result"
    }
   ],
   "source": [
    "played.groupby(by='Team')['League_ID'].value_counts()"
   ]
  },
  {
   "cell_type": "code",
   "execution_count": 18,
   "metadata": {
    "collapsed": false
   },
   "outputs": [
    {
     "data": {
      "text/plain": [
       "League_ID                  Team       \n",
       "ARG - Primera Division     Argentina       4\n",
       "                           Colombia        2\n",
       "                           Uruguay         1\n",
       "BEL - First Division A     Mexico          1\n",
       "                           Sweden          1\n",
       "BRA - Serie A              Brazil          1\n",
       "CHN - Super League         Belgium         2\n",
       "                           Argentina       1\n",
       "                           Portugal        1\n",
       "DEN - Danish Superliga     Sweden          1\n",
       "ENG - Championship         Denmark         2\n",
       "ENG - Premier League       England        15\n",
       "                           Belgium         9\n",
       "                           Brazil          4\n",
       "                           Denmark         4\n",
       "                           France          4\n",
       "                           Argentina       3\n",
       "                           Portugal        3\n",
       "                           Spain           3\n",
       "                           Colombia        2\n",
       "                           Switzerland     2\n",
       "                           Croatia         1\n",
       "                           Japan           1\n",
       "                           Mexico          1\n",
       "                           Sweden          1\n",
       "ESP - Primera Division     Spain          13\n",
       "                           Colombia        6\n",
       "                           Brazil          4\n",
       "                           Croatia         4\n",
       "                           France          4\n",
       "                           Uruguay         4\n",
       "                           Argentina       3\n",
       "                           Denmark         3\n",
       "                           Japan           2\n",
       "                           Mexico          2\n",
       "                           Portugal        2\n",
       "                           Russia          1\n",
       "FRA - Ligue 1              Brazil          3\n",
       "                           France          3\n",
       "                           Japan           2\n",
       "                           Argentina       1\n",
       "                           Belgium         1\n",
       "                           Colombia        1\n",
       "                           Croatia         1\n",
       "                           Denmark         1\n",
       "                           Sweden          1\n",
       "                           Uruguay         1\n",
       "GER - 2. Bundesliga        Japan           1\n",
       "GER - Bundesliga           Switzerland     5\n",
       "                           Japan           3\n",
       "                           Sweden          3\n",
       "                           Croatia         2\n",
       "                           Denmark         2\n",
       "                           France          2\n",
       "                           Mexico          1\n",
       "                           Portugal        1\n",
       "ITA - Serie A              Croatia         5\n",
       "                           Uruguay         5\n",
       "                           Switzerland     3\n",
       "                           Brazil          2\n",
       "                           Colombia        2\n",
       "                           Argentina       1\n",
       "                           Belgium         1\n",
       "                           Denmark         1\n",
       "                           France          1\n",
       "                           Portugal        1\n",
       "                           Sweden          1\n",
       "JPN - J1 League            Japan           2\n",
       "MEX - Primera Division     Mexico          4\n",
       "                           Colombia        1\n",
       "                           Japan           1\n",
       "                           Uruguay         1\n",
       "NED - Eredivisie           Denmark         2\n",
       "                           Argentina       1\n",
       "                           Colombia        1\n",
       "                           Mexico          1\n",
       "POR - Primeira Liga        Portugal        3\n",
       "                           Mexico          2\n",
       "                           Switzerland     1\n",
       "RUS - Premjer-Liga         Russia         14\n",
       "                           Sweden          2\n",
       "                           Portugal        1\n",
       "SCO - Premier League       Sweden          1\n",
       "SUI - Super League         Switzerland     1\n",
       "TUR - Süper Lig            Portugal        2\n",
       "                           Croatia         1\n",
       "                           Japan           1\n",
       "                           Switzerland     1\n",
       "                           Uruguay         1\n",
       "UAE - Premier League       Sweden          1\n",
       "UKR - Premier League       Croatia         1\n",
       "URU - Primera Division     Uruguay         1\n",
       "USA - Major League Soccer  Mexico          2\n",
       "                           Sweden          1\n",
       "WAL - Premier League       Sweden          1\n",
       "Name: Team, dtype: int64"
      ]
     },
     "execution_count": 18,
     "metadata": {},
     "output_type": "execute_result"
    }
   ],
   "source": [
    "played.groupby(by='League_ID')['Team'].value_counts()"
   ]
  },
  {
   "cell_type": "markdown",
   "metadata": {},
   "source": [
    "## (b) How many players are in each national team?"
   ]
  },
  {
   "cell_type": "code",
   "execution_count": 14,
   "metadata": {
    "collapsed": false
   },
   "outputs": [
    {
     "data": {
      "text/plain": [
       "Team\n",
       "Argentina      14\n",
       "Belgium        13\n",
       "Brazil         14\n",
       "Colombia       15\n",
       "Croatia        15\n",
       "Denmark        15\n",
       "England        15\n",
       "France         14\n",
       "Japan          13\n",
       "Mexico         14\n",
       "Portugal       14\n",
       "Russia         15\n",
       "Spain          16\n",
       "Sweden         14\n",
       "Switzerland    13\n",
       "Uruguay        14\n",
       "Name: Player, dtype: int64"
      ]
     },
     "execution_count": 14,
     "metadata": {},
     "output_type": "execute_result"
    }
   ],
   "source": [
    "played.groupby(by='Team')['Player'].nunique()"
   ]
  },
  {
   "cell_type": "markdown",
   "metadata": {},
   "source": [
    "## (c) How many players has each league sent to a World Cup team?"
   ]
  },
  {
   "cell_type": "code",
   "execution_count": 15,
   "metadata": {
    "collapsed": false
   },
   "outputs": [
    {
     "data": {
      "text/plain": [
       "ENG - Premier League         53\n",
       "ESP - Primera Division       48\n",
       "ITA - Serie A                23\n",
       "GER - Bundesliga             19\n",
       "RUS - Premjer-Liga           17\n",
       "FRA - Ligue 1                15\n",
       "MEX - Primera Division        7\n",
       "ARG - Primera Division        7\n",
       "TUR - Süper Lig               6\n",
       "POR - Primeira Liga           6\n",
       "NED - Eredivisie              5\n",
       "CHN - Super League            4\n",
       "USA - Major League Soccer     3\n",
       "BEL - First Division A        2\n",
       "ENG - Championship            2\n",
       "JPN - J1 League               2\n",
       "URU - Primera Division        1\n",
       "WAL - Premier League          1\n",
       "GER - 2. Bundesliga           1\n",
       "UKR - Premier League          1\n",
       "SCO - Premier League          1\n",
       "BRA - Serie A                 1\n",
       "SUI - Super League            1\n",
       "UAE - Premier League          1\n",
       "DEN - Danish Superliga        1\n",
       "Name: League_ID, dtype: int64"
      ]
     },
     "execution_count": 15,
     "metadata": {},
     "output_type": "execute_result"
    }
   ],
   "source": [
    "played['League_ID'].value_counts()"
   ]
  },
  {
   "cell_type": "markdown",
   "metadata": {},
   "source": [
    "## VISUALIZING"
   ]
  },
  {
   "cell_type": "code",
   "execution_count": 16,
   "metadata": {
    "collapsed": false
   },
   "outputs": [],
   "source": [
    "score = pd.read_csv('data/output/')"
   ]
  },
  {
   "cell_type": "code",
   "execution_count": 55,
   "metadata": {
    "collapsed": true
   },
   "outputs": [],
   "source": [
    "import seaborn as sns"
   ]
  },
  {
   "cell_type": "code",
   "execution_count": 17,
   "metadata": {
    "collapsed": false
   },
   "outputs": [],
   "source": [
    "data_selection = score\n",
    "\n",
    "#stripplot\n",
    "\n",
    "fig, ax = plt.subplots(figsize = (10,10))\n",
    "ax.set_title('DW Score World Cup Group Phase')\n",
    "sns.stripplot(ax = ax, y=\"DW_Score_2018\", data=data_selection, alpha=.75, s=9)\n",
    "\n",
    "\n",
    "fig, ax = plt.subplots(figsize = (10,10))\n",
    "sns.swarmplot(y=\"DW_Score_2018\", data=data_selection, color=\"blue\", alpha=.75, s=13)\n",
    "# plt.savefig('visuals/drafts/dw-score-2018n.pdf', transparent = True)\n"
   ]
  },
  {
   "cell_type": "code",
   "execution_count": null,
   "metadata": {
    "collapsed": true
   },
   "outputs": [],
   "source": []
  }
 ],
 "metadata": {
  "kernelspec": {
   "display_name": "Python 3",
   "language": "python",
   "name": "python3"
  },
  "language_info": {
   "codemirror_mode": {
    "name": "ipython",
    "version": 3
   },
   "file_extension": ".py",
   "mimetype": "text/x-python",
   "name": "python",
   "nbconvert_exporter": "python",
   "pygments_lexer": "ipython3",
   "version": "3.5.1"
  }
 },
 "nbformat": 4,
 "nbformat_minor": 0
}
