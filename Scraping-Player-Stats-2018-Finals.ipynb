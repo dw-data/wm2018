{
 "cells": [
  {
   "cell_type": "code",
   "execution_count": 1,
   "metadata": {
    "collapsed": true
   },
   "outputs": [],
   "source": [
    "import pandas as pd\n",
    "import matplotlib.pyplot as plt\n",
    "%matplotlib inline\n",
    "from bs4 import BeautifulSoup\n",
    "from urllib.request import Request, urlopen\n",
    "import re\n",
    "import os\n",
    "import requests\n",
    "import dateutil\n",
    "from datetime import datetime\n",
    "\n",
    "pd.set_option(\"display.max_rows\", 1000)\n",
    "\n",
    "plt.rcParams['pdf.fonttype'] = 42\n",
    "plt.rcParams['ps.fonttype'] = 42"
   ]
  },
  {
   "cell_type": "code",
   "execution_count": 2,
   "metadata": {
    "collapsed": false
   },
   "outputs": [],
   "source": [
    "overview_page_urls = [\"http://www.kicker.de/news/fussball/weltmeisterschaft/spiele/weltmeisterschaft/2018/7/0/spieltag.html\",\"http://www.kicker.de/news/fussball/weltmeisterschaft/spiele/weltmeisterschaft/2018/8/0/spieltag.html\"]"
   ]
  },
  {
   "cell_type": "code",
   "execution_count": 3,
   "metadata": {
    "collapsed": false,
    "scrolled": true
   },
   "outputs": [
    {
     "name": "stdout",
     "output_type": "stream",
     "text": [
      "/news/fussball/weltmeisterschaft/spiele/weltmeisterschaft/2018/7/3070468/spielanalyse_belgien_england.html\n",
      "http://www.kicker.de/news/fussball/weltmeisterschaft/spiele/weltmeisterschaft/2018/7/3070468/taktische-aufstellung_belgien_england.html\n",
      "Courtois\n",
      "Alderweireld\n",
      "Kompany\n",
      "Vertonghen\n",
      "Meunier\n",
      "Tielemans\n",
      "Witsel\n",
      "Chadli\n",
      "De Bruyne\n",
      "E. Hazard\n",
      "R. Lukaku\n",
      "Vermaelen\n",
      "Chadli\n",
      "Mertens\n",
      "R. Lukaku\n",
      "Dembelé\n",
      "Tielemans\n",
      "Pickford\n",
      "P. Jones\n",
      "Stones\n",
      "Maguire\n",
      "Trippier\n",
      "Dier\n",
      "D. Rose\n",
      "Loftus-Cheek\n",
      "Delph\n",
      "Sterling\n",
      "H. Kane\n",
      "Lingard\n",
      "D. Rose\n",
      "Rashford\n",
      "Sterling\n",
      "Alli\n",
      "Loftus-Cheek\n",
      "/news/fussball/weltmeisterschaft/spiele/weltmeisterschaft/2018/8/3070469/spielbericht_frankreich_kroatien.html\n",
      "http://www.kicker.de/news/fussball/weltmeisterschaft/spiele/weltmeisterschaft/2018/7/3070468/taktische-aufstellung_belgien_england.html\n",
      "http://www.kicker.de/news/fussball/weltmeisterschaft/spiele/weltmeisterschaft/2018/8/3070469/taktische-aufstellung_frankreich_kroatien.html\n",
      "Courtois\n",
      "Alderweireld\n",
      "Kompany\n",
      "Vertonghen\n",
      "Meunier\n",
      "Tielemans\n",
      "Witsel\n",
      "Chadli\n",
      "De Bruyne\n",
      "E. Hazard\n",
      "R. Lukaku\n",
      "Vermaelen\n",
      "Chadli\n",
      "Mertens\n",
      "R. Lukaku\n",
      "Dembelé\n",
      "Tielemans\n",
      "Pickford\n",
      "P. Jones\n",
      "Stones\n",
      "Maguire\n",
      "Trippier\n",
      "Dier\n",
      "D. Rose\n",
      "Loftus-Cheek\n",
      "Delph\n",
      "Sterling\n",
      "H. Kane\n",
      "Lingard\n",
      "D. Rose\n",
      "Rashford\n",
      "Sterling\n",
      "Alli\n",
      "Loftus-Cheek\n",
      "Courtois\n",
      "Alderweireld\n",
      "Kompany\n",
      "Vertonghen\n",
      "Meunier\n",
      "Tielemans\n",
      "Witsel\n",
      "Chadli\n",
      "De Bruyne\n",
      "E. Hazard\n",
      "R. Lukaku\n",
      "Vermaelen\n",
      "Chadli\n",
      "Mertens\n",
      "R. Lukaku\n",
      "Dembelé\n",
      "Tielemans\n",
      "Pickford\n",
      "P. Jones\n",
      "Stones\n",
      "Maguire\n",
      "Trippier\n",
      "Dier\n",
      "D. Rose\n",
      "Loftus-Cheek\n",
      "Delph\n",
      "Sterling\n",
      "H. Kane\n",
      "Lingard\n",
      "D. Rose\n",
      "Rashford\n",
      "Sterling\n",
      "Alli\n",
      "Loftus-Cheek\n",
      "Lloris\n",
      "Pavard\n",
      "Varane\n",
      "Umtiti\n",
      "Lucas\n",
      "Pogba\n",
      "Kanté\n",
      "Mbappé\n",
      "Matuidi\n",
      "Griezmann\n",
      "Giroud\n",
      "N'Zonzi\n",
      "Kanté\n",
      "Tolisso\n",
      "Matuidi\n",
      "Fekir\n",
      "Giroud\n",
      "Subasic\n",
      "Vrsaljko\n",
      "Lovren\n",
      "Vida\n",
      "Strinic\n",
      "Brozovic\n",
      "Rakitic\n",
      "Rebic\n",
      "Modric\n",
      "Perisic\n",
      "Mandzukic\n",
      "Kramaric\n",
      "Rebic\n",
      "Pjaca\n",
      "Strinic\n"
     ]
    }
   ],
   "source": [
    "url_list = []\n",
    "tactical_url_list = []\n",
    "names_list = []\n",
    "\n",
    "for url in overview_page_urls:\n",
    "    #open each of the overview pages\n",
    "    requested_page = Request(url, headers={'User-Agent': 'Chrome/64.0'})\n",
    "    webpage = urlopen(requested_page).read()\n",
    "    overview_page = BeautifulSoup(webpage, \"html.parser\")\n",
    "    \n",
    "    #Find the links to all the pages that contain an analysis\n",
    "    for a in overview_page.findAll('a', {'class': 'link'}):\n",
    "        if a.text == \"Analyse\":\n",
    "            print(a['href'])\n",
    "            url_list.append(a['href'])\n",
    "        if  a.text == \"Spielbericht\":\n",
    "            print(a['href'])\n",
    "            url_list.append(a['href'])\n",
    "    \n",
    "    #For each of the found links, replace part of the URL to head to the tactical setup and save it as a new URL\n",
    "    for url in url_list:\n",
    "        modified_url = url.replace('spielanalyse','taktische-aufstellung').replace('spielbericht','taktische-aufstellung')\n",
    "        full_url = 'http://www.kicker.de'+modified_url\n",
    "        print(full_url)\n",
    "        tactical_url_list.append(full_url)\n",
    "        \n",
    "    for tactical_url in tactical_url_list:\n",
    "        #open the URL for each game's tactical set up listing all players and exchanged players\n",
    "        requested_page_two = Request(tactical_url)\n",
    "        webpage_two = urlopen(requested_page_two).read()\n",
    "        overview_page_two = BeautifulSoup(webpage_two, \"html.parser\")\n",
    "\n",
    "        #find all the names listed on the page and add them to the list\n",
    "        #search by div-id as that is the only way to exclude the players on the Ersatzbank\n",
    "        for div in overview_page_two.findAll('div', {'id':'ctl00_PlaceHolderHalf_aufstellunghalf_ausstellungHeim'}):\n",
    "            for a in div.findAll('a', {'class':'link_noicon'}):\n",
    "                print(a.text)\n",
    "                names_list.append(a.text)\n",
    "\n",
    "        for div in overview_page_two.findAll('div', {'id':'ctl00_PlaceHolderHalf_aufstellunghalf_einwechslungenHeim'}):\n",
    "            for a in div.findAll('a', {'class':'link_noicon'}):\n",
    "                print(a.text)\n",
    "                names_list.append(a.text)\n",
    "\n",
    "        for div in overview_page_two.findAll('div', {'id':'ctl00_PlaceHolderHalf_aufstellunghalf_ausstellungAusw'}):\n",
    "            for a in div.findAll('a', {'class':'link_noicon'}):\n",
    "                print(a.text)\n",
    "                names_list.append(a.text)\n",
    "\n",
    "        for div in overview_page_two.findAll('div', {'id':'ctl00_PlaceHolderHalf_aufstellunghalf_einwechslungenAusw'}):\n",
    "            for a in div.findAll('a', {'class':'link_noicon'}):\n",
    "                print(a.text)\n",
    "                names_list.append(a.text)"
   ]
  },
  {
   "cell_type": "code",
   "execution_count": 4,
   "metadata": {
    "collapsed": false
   },
   "outputs": [
    {
     "data": {
      "text/html": [
       "<div>\n",
       "<table border=\"1\" class=\"dataframe\">\n",
       "  <thead>\n",
       "    <tr style=\"text-align: right;\">\n",
       "      <th></th>\n",
       "      <th>0</th>\n",
       "    </tr>\n",
       "  </thead>\n",
       "  <tbody>\n",
       "    <tr>\n",
       "      <th>0</th>\n",
       "      <td>Courtois</td>\n",
       "    </tr>\n",
       "    <tr>\n",
       "      <th>1</th>\n",
       "      <td>Alderweireld</td>\n",
       "    </tr>\n",
       "    <tr>\n",
       "      <th>2</th>\n",
       "      <td>Kompany</td>\n",
       "    </tr>\n",
       "    <tr>\n",
       "      <th>3</th>\n",
       "      <td>Vertonghen</td>\n",
       "    </tr>\n",
       "    <tr>\n",
       "      <th>4</th>\n",
       "      <td>Meunier</td>\n",
       "    </tr>\n",
       "  </tbody>\n",
       "</table>\n",
       "</div>"
      ],
      "text/plain": [
       "              0\n",
       "0      Courtois\n",
       "1  Alderweireld\n",
       "2       Kompany\n",
       "3    Vertonghen\n",
       "4       Meunier"
      ]
     },
     "execution_count": 4,
     "metadata": {},
     "output_type": "execute_result"
    }
   ],
   "source": [
    "df = pd.DataFrame(names_list)\n",
    "df.head()"
   ]
  },
  {
   "cell_type": "code",
   "execution_count": 5,
   "metadata": {
    "collapsed": true
   },
   "outputs": [],
   "source": [
    "df.to_csv('data/output/players_played_2018_finals_raw.csv')"
   ]
  },
  {
   "cell_type": "code",
   "execution_count": 6,
   "metadata": {
    "collapsed": false
   },
   "outputs": [
    {
     "name": "stdout",
     "output_type": "stream",
     "text": [
      "134\n",
      "57\n"
     ]
    }
   ],
   "source": [
    "print(len(df))\n",
    "df_unique = df.drop_duplicates()\n",
    "print(len(df_unique))"
   ]
  },
  {
   "cell_type": "code",
   "execution_count": 7,
   "metadata": {
    "collapsed": true
   },
   "outputs": [],
   "source": [
    "df_unique.to_csv('data/output/players_played_2018_finals_unique.csv')"
   ]
  },
  {
   "cell_type": "code",
   "execution_count": null,
   "metadata": {
    "collapsed": true
   },
   "outputs": [],
   "source": []
  }
 ],
 "metadata": {
  "kernelspec": {
   "display_name": "Python 3",
   "language": "python",
   "name": "python3"
  },
  "language_info": {
   "codemirror_mode": {
    "name": "ipython",
    "version": 3
   },
   "file_extension": ".py",
   "mimetype": "text/x-python",
   "name": "python",
   "nbconvert_exporter": "python",
   "pygments_lexer": "ipython3",
   "version": "3.5.1"
  }
 },
 "nbformat": 4,
 "nbformat_minor": 0
}
